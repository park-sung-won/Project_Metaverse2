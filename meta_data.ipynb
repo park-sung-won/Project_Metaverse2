{
 "cells": [
  {
   "cell_type": "code",
   "execution_count": 1,
   "id": "30a3b3a5",
   "metadata": {},
   "outputs": [],
   "source": [
    "import pandas as pd\n",
    "import numpy as np\n",
    "import seaborn as sns\n",
    "import matplotlib.pyplot as plt\n",
    "import math"
   ]
  },
  {
   "cell_type": "markdown",
   "id": "8c2dec31",
   "metadata": {},
   "source": [
    "# 1. 데이터 전처리"
   ]
  },
  {
   "cell_type": "markdown",
   "id": "1e82d204",
   "metadata": {},
   "source": [
    "## 1-1. 메타버스 부동산 가격 데이터"
   ]
  },
  {
   "cell_type": "code",
   "execution_count": 2,
   "id": "a4f2ed59",
   "metadata": {
    "scrolled": true
   },
   "outputs": [],
   "source": [
    "# 메타버스 최초 크롤링데이터\n",
    "df = pd.read_csv(\"meta_data_all_min.csv\") "
   ]
  },
  {
   "cell_type": "code",
   "execution_count": 3,
   "id": "e14f6113",
   "metadata": {},
   "outputs": [
    {
     "data": {
      "text/plain": [
       "2021-09-16T08:44:50.296Z    7\n",
       "2021-10-08T09:09:01.262Z    6\n",
       "2021-12-03T14:25:02.644Z    6\n",
       "2021-11-08T09:28:56.826Z    6\n",
       "2021-11-04T11:59:37.047Z    6\n",
       "                           ..\n",
       "2021-09-18T05:10:53.096Z    1\n",
       "2021-09-23T10:33:54.111Z    1\n",
       "2021-10-25T10:51:11.583Z    1\n",
       "2021-09-24T08:47:02.157Z    1\n",
       "2021-10-15T00:34:12.512Z    1\n",
       "Name: createdAt, Length: 41758, dtype: int64"
      ]
     },
     "execution_count": 3,
     "metadata": {},
     "output_type": "execute_result"
    }
   ],
   "source": [
    "# 특정 컬럼 유니크 값 개수 확인 >> 불필요한 컬럼 제거 목적\n",
    "df[\"createdAt\"].value_counts()"
   ]
  },
  {
   "cell_type": "code",
   "execution_count": 4,
   "id": "784b1d2d",
   "metadata": {},
   "outputs": [],
   "source": [
    "# df[[\"createdAt\",\"totalPrice\"]].sort_values(\"createdAt\")"
   ]
  },
  {
   "cell_type": "code",
   "execution_count": 5,
   "id": "18512c8a",
   "metadata": {
    "scrolled": true
   },
   "outputs": [
    {
     "data": {
      "text/html": [
       "<div>\n",
       "<style scoped>\n",
       "    .dataframe tbody tr th:only-of-type {\n",
       "        vertical-align: middle;\n",
       "    }\n",
       "\n",
       "    .dataframe tbody tr th {\n",
       "        vertical-align: top;\n",
       "    }\n",
       "\n",
       "    .dataframe thead th {\n",
       "        text-align: right;\n",
       "    }\n",
       "</style>\n",
       "<table border=\"1\" class=\"dataframe\">\n",
       "  <thead>\n",
       "    <tr style=\"text-align: right;\">\n",
       "      <th></th>\n",
       "      <th>Unnamed: 0</th>\n",
       "      <th>isMyTile</th>\n",
       "      <th>lastPage</th>\n",
       "      <th>currentPage</th>\n",
       "      <th>allSellOrdersCount</th>\n",
       "      <th>currentSellOrderCount</th>\n",
       "      <th>sellOrderId</th>\n",
       "      <th>uuid</th>\n",
       "      <th>boughtPrice</th>\n",
       "      <th>totalPrice</th>\n",
       "      <th>createdAt</th>\n",
       "      <th>sellerId</th>\n",
       "      <th>sellerReferralCode</th>\n",
       "      <th>memo</th>\n",
       "      <th>address</th>\n",
       "      <th>coordinates</th>\n",
       "    </tr>\n",
       "  </thead>\n",
       "  <tbody>\n",
       "    <tr>\n",
       "      <th>1</th>\n",
       "      <td>1</td>\n",
       "      <td>False</td>\n",
       "      <td>5297</td>\n",
       "      <td>1</td>\n",
       "      <td>52968</td>\n",
       "      <td>2</td>\n",
       "      <td>377297</td>\n",
       "      <td>056274a0-4a2d-45e0-bc93-43062e74ac60</td>\n",
       "      <td>16348160</td>\n",
       "      <td>32696320</td>\n",
       "      <td>2021-12-13T14:31:35.935Z</td>\n",
       "      <td>17253</td>\n",
       "      <td>ohKCKOZT50RU</td>\n",
       "      <td>Jamsil-dong</td>\n",
       "      <td>South Korea Seoul Songpa-gu 05608 Jamsil-dong ...</td>\n",
       "      <td>[127.09868431091309, 37.51047477627239]</td>\n",
       "    </tr>\n",
       "  </tbody>\n",
       "</table>\n",
       "</div>"
      ],
      "text/plain": [
       "   Unnamed: 0  isMyTile  lastPage  currentPage  allSellOrdersCount  \\\n",
       "1           1     False      5297            1               52968   \n",
       "\n",
       "   currentSellOrderCount  sellOrderId                                  uuid  \\\n",
       "1                      2       377297  056274a0-4a2d-45e0-bc93-43062e74ac60   \n",
       "\n",
       "   boughtPrice  totalPrice                 createdAt  sellerId  \\\n",
       "1     16348160    32696320  2021-12-13T14:31:35.935Z     17253   \n",
       "\n",
       "  sellerReferralCode         memo  \\\n",
       "1       ohKCKOZT50RU  Jamsil-dong   \n",
       "\n",
       "                                             address  \\\n",
       "1  South Korea Seoul Songpa-gu 05608 Jamsil-dong ...   \n",
       "\n",
       "                               coordinates  \n",
       "1  [127.09868431091309, 37.51047477627239]  "
      ]
     },
     "execution_count": 5,
     "metadata": {},
     "output_type": "execute_result"
    }
   ],
   "source": [
    "# 한국 서울 주소지 값만 추출\n",
    "df_korea = df[df[\"address\"].str.contains(\"Seoul\")==True]\n",
    "df_korea.head(1)"
   ]
  },
  {
   "cell_type": "code",
   "execution_count": 6,
   "id": "58bcd859",
   "metadata": {},
   "outputs": [
    {
     "name": "stderr",
     "output_type": "stream",
     "text": [
      "<ipython-input-6-1b0c9955818a>:9: SettingWithCopyWarning: \n",
      "A value is trying to be set on a copy of a slice from a DataFrame.\n",
      "Try using .loc[row_indexer,col_indexer] = value instead\n",
      "\n",
      "See the caveats in the documentation: https://pandas.pydata.org/pandas-docs/stable/user_guide/indexing.html#returning-a-view-versus-a-copy\n",
      "  df_korea[\"gu_address\"] = a\n"
     ]
    },
    {
     "data": {
      "text/html": [
       "<div>\n",
       "<style scoped>\n",
       "    .dataframe tbody tr th:only-of-type {\n",
       "        vertical-align: middle;\n",
       "    }\n",
       "\n",
       "    .dataframe tbody tr th {\n",
       "        vertical-align: top;\n",
       "    }\n",
       "\n",
       "    .dataframe thead th {\n",
       "        text-align: right;\n",
       "    }\n",
       "</style>\n",
       "<table border=\"1\" class=\"dataframe\">\n",
       "  <thead>\n",
       "    <tr style=\"text-align: right;\">\n",
       "      <th></th>\n",
       "      <th>Unnamed: 0</th>\n",
       "      <th>isMyTile</th>\n",
       "      <th>lastPage</th>\n",
       "      <th>currentPage</th>\n",
       "      <th>allSellOrdersCount</th>\n",
       "      <th>currentSellOrderCount</th>\n",
       "      <th>sellOrderId</th>\n",
       "      <th>uuid</th>\n",
       "      <th>boughtPrice</th>\n",
       "      <th>totalPrice</th>\n",
       "      <th>createdAt</th>\n",
       "      <th>sellerId</th>\n",
       "      <th>sellerReferralCode</th>\n",
       "      <th>memo</th>\n",
       "      <th>address</th>\n",
       "      <th>coordinates</th>\n",
       "      <th>gu_address</th>\n",
       "    </tr>\n",
       "  </thead>\n",
       "  <tbody>\n",
       "    <tr>\n",
       "      <th>1</th>\n",
       "      <td>1</td>\n",
       "      <td>False</td>\n",
       "      <td>5297</td>\n",
       "      <td>1</td>\n",
       "      <td>52968</td>\n",
       "      <td>2</td>\n",
       "      <td>377297</td>\n",
       "      <td>056274a0-4a2d-45e0-bc93-43062e74ac60</td>\n",
       "      <td>16348160</td>\n",
       "      <td>32696320</td>\n",
       "      <td>2021-12-13T14:31:35.935Z</td>\n",
       "      <td>17253</td>\n",
       "      <td>ohKCKOZT50RU</td>\n",
       "      <td>Jamsil-dong</td>\n",
       "      <td>South Korea Seoul Songpa-gu 05608 Jamsil-dong ...</td>\n",
       "      <td>[127.09868431091309, 37.51047477627239]</td>\n",
       "      <td>Songpa-gu</td>\n",
       "    </tr>\n",
       "  </tbody>\n",
       "</table>\n",
       "</div>"
      ],
      "text/plain": [
       "   Unnamed: 0  isMyTile  lastPage  currentPage  allSellOrdersCount  \\\n",
       "1           1     False      5297            1               52968   \n",
       "\n",
       "   currentSellOrderCount  sellOrderId                                  uuid  \\\n",
       "1                      2       377297  056274a0-4a2d-45e0-bc93-43062e74ac60   \n",
       "\n",
       "   boughtPrice  totalPrice                 createdAt  sellerId  \\\n",
       "1     16348160    32696320  2021-12-13T14:31:35.935Z     17253   \n",
       "\n",
       "  sellerReferralCode         memo  \\\n",
       "1       ohKCKOZT50RU  Jamsil-dong   \n",
       "\n",
       "                                             address  \\\n",
       "1  South Korea Seoul Songpa-gu 05608 Jamsil-dong ...   \n",
       "\n",
       "                               coordinates gu_address  \n",
       "1  [127.09868431091309, 37.51047477627239]  Songpa-gu  "
      ]
     },
     "execution_count": 6,
     "metadata": {},
     "output_type": "execute_result"
    }
   ],
   "source": [
    "# 구별로 나타내기\n",
    "df_gu_list = df_korea[\"address\"].to_list()\n",
    "\n",
    "a = []\n",
    "for i in range(len(df_gu_list)):\n",
    "    gu_list = df_gu_list[i].split()[3]\n",
    "    a.append(gu_list)\n",
    "\n",
    "df_korea[\"gu_address\"] = a\n",
    "df_korea.head(1)"
   ]
  },
  {
   "cell_type": "code",
   "execution_count": 7,
   "id": "100f37c1",
   "metadata": {},
   "outputs": [
    {
     "name": "stderr",
     "output_type": "stream",
     "text": [
      "<ipython-input-7-ff60db35ecfc>:2: SettingWithCopyWarning: \n",
      "A value is trying to be set on a copy of a slice from a DataFrame.\n",
      "Try using .loc[row_indexer,col_indexer] = value instead\n",
      "\n",
      "See the caveats in the documentation: https://pandas.pydata.org/pandas-docs/stable/user_guide/indexing.html#returning-a-view-versus-a-copy\n",
      "  df_korea[\"totalPrice/100*1200\"] = df_korea[\"totalPrice\"]/100*1200\n",
      "<ipython-input-7-ff60db35ecfc>:3: SettingWithCopyWarning: \n",
      "A value is trying to be set on a copy of a slice from a DataFrame.\n",
      "Try using .loc[row_indexer,col_indexer] = value instead\n",
      "\n",
      "See the caveats in the documentation: https://pandas.pydata.org/pandas-docs/stable/user_guide/indexing.html#returning-a-view-versus-a-copy\n",
      "  df_korea[\"boughtPrice/100*1200\"] = df_korea[\"boughtPrice\"]/100*1200\n"
     ]
    },
    {
     "data": {
      "text/html": [
       "<div>\n",
       "<style scoped>\n",
       "    .dataframe tbody tr th:only-of-type {\n",
       "        vertical-align: middle;\n",
       "    }\n",
       "\n",
       "    .dataframe tbody tr th {\n",
       "        vertical-align: top;\n",
       "    }\n",
       "\n",
       "    .dataframe thead th {\n",
       "        text-align: right;\n",
       "    }\n",
       "</style>\n",
       "<table border=\"1\" class=\"dataframe\">\n",
       "  <thead>\n",
       "    <tr style=\"text-align: right;\">\n",
       "      <th></th>\n",
       "      <th>Unnamed: 0</th>\n",
       "      <th>isMyTile</th>\n",
       "      <th>lastPage</th>\n",
       "      <th>currentPage</th>\n",
       "      <th>allSellOrdersCount</th>\n",
       "      <th>currentSellOrderCount</th>\n",
       "      <th>sellOrderId</th>\n",
       "      <th>uuid</th>\n",
       "      <th>boughtPrice</th>\n",
       "      <th>totalPrice</th>\n",
       "      <th>createdAt</th>\n",
       "      <th>sellerId</th>\n",
       "      <th>sellerReferralCode</th>\n",
       "      <th>memo</th>\n",
       "      <th>address</th>\n",
       "      <th>coordinates</th>\n",
       "      <th>gu_address</th>\n",
       "      <th>totalPrice/100*1200</th>\n",
       "      <th>boughtPrice/100*1200</th>\n",
       "    </tr>\n",
       "  </thead>\n",
       "  <tbody>\n",
       "    <tr>\n",
       "      <th>1</th>\n",
       "      <td>1</td>\n",
       "      <td>False</td>\n",
       "      <td>5297</td>\n",
       "      <td>1</td>\n",
       "      <td>52968</td>\n",
       "      <td>2</td>\n",
       "      <td>377297</td>\n",
       "      <td>056274a0-4a2d-45e0-bc93-43062e74ac60</td>\n",
       "      <td>16348160</td>\n",
       "      <td>32696320</td>\n",
       "      <td>2021-12-13T14:31:35.935Z</td>\n",
       "      <td>17253</td>\n",
       "      <td>ohKCKOZT50RU</td>\n",
       "      <td>Jamsil-dong</td>\n",
       "      <td>South Korea Seoul Songpa-gu 05608 Jamsil-dong ...</td>\n",
       "      <td>[127.09868431091309, 37.51047477627239]</td>\n",
       "      <td>Songpa-gu</td>\n",
       "      <td>392355840.0</td>\n",
       "      <td>196177920.0</td>\n",
       "    </tr>\n",
       "  </tbody>\n",
       "</table>\n",
       "</div>"
      ],
      "text/plain": [
       "   Unnamed: 0  isMyTile  lastPage  currentPage  allSellOrdersCount  \\\n",
       "1           1     False      5297            1               52968   \n",
       "\n",
       "   currentSellOrderCount  sellOrderId                                  uuid  \\\n",
       "1                      2       377297  056274a0-4a2d-45e0-bc93-43062e74ac60   \n",
       "\n",
       "   boughtPrice  totalPrice                 createdAt  sellerId  \\\n",
       "1     16348160    32696320  2021-12-13T14:31:35.935Z     17253   \n",
       "\n",
       "  sellerReferralCode         memo  \\\n",
       "1       ohKCKOZT50RU  Jamsil-dong   \n",
       "\n",
       "                                             address  \\\n",
       "1  South Korea Seoul Songpa-gu 05608 Jamsil-dong ...   \n",
       "\n",
       "                               coordinates gu_address  totalPrice/100*1200  \\\n",
       "1  [127.09868431091309, 37.51047477627239]  Songpa-gu          392355840.0   \n",
       "\n",
       "   boughtPrice/100*1200  \n",
       "1           196177920.0  "
      ]
     },
     "execution_count": 7,
     "metadata": {},
     "output_type": "execute_result"
    }
   ],
   "source": [
    "# 센트 > 달러 > 원 단위 환산\n",
    "df_korea[\"totalPrice/100*1200\"] = df_korea[\"totalPrice\"]/100*1200\n",
    "df_korea[\"boughtPrice/100*1200\"] = df_korea[\"boughtPrice\"]/100*1200\n",
    "df_korea.head(1)"
   ]
  },
  {
   "cell_type": "code",
   "execution_count": 8,
   "id": "a06556ae",
   "metadata": {},
   "outputs": [
    {
     "data": {
      "text/html": [
       "<div>\n",
       "<style scoped>\n",
       "    .dataframe tbody tr th:only-of-type {\n",
       "        vertical-align: middle;\n",
       "    }\n",
       "\n",
       "    .dataframe tbody tr th {\n",
       "        vertical-align: top;\n",
       "    }\n",
       "\n",
       "    .dataframe thead th {\n",
       "        text-align: right;\n",
       "    }\n",
       "</style>\n",
       "<table border=\"1\" class=\"dataframe\">\n",
       "  <thead>\n",
       "    <tr style=\"text-align: right;\">\n",
       "      <th></th>\n",
       "      <th>boughtPrice</th>\n",
       "      <th>totalPrice</th>\n",
       "      <th>createdAt</th>\n",
       "      <th>sellerId</th>\n",
       "      <th>memo</th>\n",
       "      <th>address</th>\n",
       "      <th>coordinates</th>\n",
       "      <th>gu_address</th>\n",
       "      <th>totalPrice/100*1200</th>\n",
       "      <th>boughtPrice/100*1200</th>\n",
       "    </tr>\n",
       "  </thead>\n",
       "  <tbody>\n",
       "    <tr>\n",
       "      <th>1</th>\n",
       "      <td>16348160</td>\n",
       "      <td>32696320</td>\n",
       "      <td>2021-12-13T14:31:35.935Z</td>\n",
       "      <td>17253</td>\n",
       "      <td>Jamsil-dong</td>\n",
       "      <td>South Korea Seoul Songpa-gu 05608 Jamsil-dong ...</td>\n",
       "      <td>[127.09868431091309, 37.51047477627239]</td>\n",
       "      <td>Songpa-gu</td>\n",
       "      <td>392355840.0</td>\n",
       "      <td>196177920.0</td>\n",
       "    </tr>\n",
       "  </tbody>\n",
       "</table>\n",
       "</div>"
      ],
      "text/plain": [
       "   boughtPrice  totalPrice                 createdAt  sellerId         memo  \\\n",
       "1     16348160    32696320  2021-12-13T14:31:35.935Z     17253  Jamsil-dong   \n",
       "\n",
       "                                             address  \\\n",
       "1  South Korea Seoul Songpa-gu 05608 Jamsil-dong ...   \n",
       "\n",
       "                               coordinates gu_address  totalPrice/100*1200  \\\n",
       "1  [127.09868431091309, 37.51047477627239]  Songpa-gu          392355840.0   \n",
       "\n",
       "   boughtPrice/100*1200  \n",
       "1           196177920.0  "
      ]
     },
     "execution_count": 8,
     "metadata": {},
     "output_type": "execute_result"
    }
   ],
   "source": [
    "# 불필요한 컬럼 제거\n",
    "df_1 = df_korea.drop([\"uuid\",\"Unnamed: 0\",\"sellOrderId\",\"allSellOrdersCount\",\"lastPage\",\"currentPage\",\"currentSellOrderCount\",\"isMyTile\",\"sellerReferralCode\"], axis = 1)\n",
    "df_1.head(1)\n"
   ]
  },
  {
   "cell_type": "code",
   "execution_count": 9,
   "id": "006ffaf9",
   "metadata": {},
   "outputs": [
    {
     "data": {
      "text/html": [
       "<div>\n",
       "<style scoped>\n",
       "    .dataframe tbody tr th:only-of-type {\n",
       "        vertical-align: middle;\n",
       "    }\n",
       "\n",
       "    .dataframe tbody tr th {\n",
       "        vertical-align: top;\n",
       "    }\n",
       "\n",
       "    .dataframe thead th {\n",
       "        text-align: right;\n",
       "    }\n",
       "</style>\n",
       "<table border=\"1\" class=\"dataframe\">\n",
       "  <thead>\n",
       "    <tr style=\"text-align: right;\">\n",
       "      <th></th>\n",
       "      <th>boughtPrice</th>\n",
       "      <th>totalPrice</th>\n",
       "      <th>gu_address</th>\n",
       "      <th>dong_address</th>\n",
       "    </tr>\n",
       "  </thead>\n",
       "  <tbody>\n",
       "    <tr>\n",
       "      <th>1</th>\n",
       "      <td>196177920.0</td>\n",
       "      <td>392355840.0</td>\n",
       "      <td>Songpa-gu</td>\n",
       "      <td>Jamsil-dong</td>\n",
       "    </tr>\n",
       "    <tr>\n",
       "      <th>2</th>\n",
       "      <td>176821632.0</td>\n",
       "      <td>353643552.0</td>\n",
       "      <td>Songpa-gu</td>\n",
       "      <td>Sincheon-dong</td>\n",
       "    </tr>\n",
       "    <tr>\n",
       "      <th>4</th>\n",
       "      <td>133792656.0</td>\n",
       "      <td>267585312.0</td>\n",
       "      <td>Songpa-gu</td>\n",
       "      <td>Sincheon-dong</td>\n",
       "    </tr>\n",
       "    <tr>\n",
       "      <th>5</th>\n",
       "      <td>122780448.0</td>\n",
       "      <td>245560896.0</td>\n",
       "      <td>Yeongdeungpo-gu</td>\n",
       "      <td>Yeouido-dong</td>\n",
       "    </tr>\n",
       "    <tr>\n",
       "      <th>7</th>\n",
       "      <td>103072632.0</td>\n",
       "      <td>206145264.0</td>\n",
       "      <td>Songpa-gu</td>\n",
       "      <td>Sincheon-dong</td>\n",
       "    </tr>\n",
       "    <tr>\n",
       "      <th>...</th>\n",
       "      <td>...</td>\n",
       "      <td>...</td>\n",
       "      <td>...</td>\n",
       "      <td>...</td>\n",
       "    </tr>\n",
       "    <tr>\n",
       "      <th>49408</th>\n",
       "      <td>240.0</td>\n",
       "      <td>480.0</td>\n",
       "      <td>Gangseo-gu</td>\n",
       "      <td>Magok-dong</td>\n",
       "    </tr>\n",
       "    <tr>\n",
       "      <th>49821</th>\n",
       "      <td>240.0</td>\n",
       "      <td>480.0</td>\n",
       "      <td>Gangnam-gu</td>\n",
       "      <td>Dogok-dong</td>\n",
       "    </tr>\n",
       "    <tr>\n",
       "      <th>49962</th>\n",
       "      <td>240.0</td>\n",
       "      <td>480.0</td>\n",
       "      <td>Yongsan-gu</td>\n",
       "      <td>Ichon-dong</td>\n",
       "    </tr>\n",
       "    <tr>\n",
       "      <th>50178</th>\n",
       "      <td>240.0</td>\n",
       "      <td>480.0</td>\n",
       "      <td>Gangseo-gu</td>\n",
       "      <td>Magok-dong</td>\n",
       "    </tr>\n",
       "    <tr>\n",
       "      <th>50683</th>\n",
       "      <td>228.0</td>\n",
       "      <td>456.0</td>\n",
       "      <td>Gangdong-gu</td>\n",
       "      <td>Gangil-dong</td>\n",
       "    </tr>\n",
       "  </tbody>\n",
       "</table>\n",
       "<p>25802 rows × 4 columns</p>\n",
       "</div>"
      ],
      "text/plain": [
       "       boughtPrice   totalPrice       gu_address   dong_address\n",
       "1      196177920.0  392355840.0        Songpa-gu    Jamsil-dong\n",
       "2      176821632.0  353643552.0        Songpa-gu  Sincheon-dong\n",
       "4      133792656.0  267585312.0        Songpa-gu  Sincheon-dong\n",
       "5      122780448.0  245560896.0  Yeongdeungpo-gu   Yeouido-dong\n",
       "7      103072632.0  206145264.0        Songpa-gu  Sincheon-dong\n",
       "...            ...          ...              ...            ...\n",
       "49408        240.0        480.0       Gangseo-gu     Magok-dong\n",
       "49821        240.0        480.0       Gangnam-gu     Dogok-dong\n",
       "49962        240.0        480.0       Yongsan-gu     Ichon-dong\n",
       "50178        240.0        480.0       Gangseo-gu     Magok-dong\n",
       "50683        228.0        456.0      Gangdong-gu    Gangil-dong\n",
       "\n",
       "[25802 rows x 4 columns]"
      ]
     },
     "execution_count": 9,
     "metadata": {},
     "output_type": "execute_result"
    }
   ],
   "source": [
    "# 필요한 컬럼 추출 : 메타버스 시장가격 (단위 : 센트>달러>원 , 고정환율 : 1,200원)\n",
    "df_meta = pd.DataFrame()\n",
    "df_meta[\"boughtPrice\"] = df_1[\"boughtPrice/100*1200\"]\n",
    "df_meta[\"totalPrice\"] = df_1[\"totalPrice/100*1200\"]\n",
    "df_meta[\"gu_address\"] = df_1[\"gu_address\"]\n",
    "df_meta[\"dong_address\"] = df_1[\"memo\"]\n",
    "\n",
    "# df_meta_index = df_meta.set_index(['gu_address','dong_address'])\n",
    "df_meta"
   ]
  },
  {
   "cell_type": "markdown",
   "id": "0018a308",
   "metadata": {},
   "source": [
    "## 1-2. 현실 부동산 가격 데이터"
   ]
  },
  {
   "cell_type": "code",
   "execution_count": 10,
   "id": "14b69db5",
   "metadata": {
    "scrolled": true
   },
   "outputs": [],
   "source": [
    "# 현실 공시지가 데이터  (출처 : http://stat.molit.go.kr/portal/cate/statView.do?hRsId=25&hFormId=6214&hSelectId=6214&sStyleNum=1&sStart=2020&sEnd=2020&hPoint=0&hAppr=1&oFileName=&rFileName=&midpath=)\n",
    "df_real = pd.read_excel(\"01.토지_소유구분별_기본_현황_시군구.xlsx\")\n",
    "\n",
    "df_real = df_real[[\"시도\", \"시군구\",\"합 계\", \"Unnamed: 3\",\"Unnamed: 4\"]]\n",
    "df_real.columns = [\"시도\",\"시군구\",\"면적\", \"지번수\",\"가액\"]\n",
    "df_real = df_real.iloc[3:28, 0:6].fillna(\"서울특별시\")\n",
    "\n"
   ]
  },
  {
   "cell_type": "markdown",
   "id": "82756b6f",
   "metadata": {},
   "source": [
    "공식 : 가액 = 면적 * (지분) * 개별공시지가 * 50/100   (국유지랑 사유지가 모두 포함되어 있기 때문에, 지분은 1로 계산함)\n",
    "\n",
    "따라서, 가액 * 2 / 면적 = 개별공시지가"
   ]
  },
  {
   "cell_type": "code",
   "execution_count": 11,
   "id": "a6a022d7",
   "metadata": {
    "scrolled": true
   },
   "outputs": [
    {
     "data": {
      "text/html": [
       "<div>\n",
       "<style scoped>\n",
       "    .dataframe tbody tr th:only-of-type {\n",
       "        vertical-align: middle;\n",
       "    }\n",
       "\n",
       "    .dataframe tbody tr th {\n",
       "        vertical-align: top;\n",
       "    }\n",
       "\n",
       "    .dataframe thead th {\n",
       "        text-align: right;\n",
       "    }\n",
       "</style>\n",
       "<table border=\"1\" class=\"dataframe\">\n",
       "  <thead>\n",
       "    <tr style=\"text-align: right;\">\n",
       "      <th></th>\n",
       "      <th>시도</th>\n",
       "      <th>시군구</th>\n",
       "      <th>면적</th>\n",
       "      <th>지번수</th>\n",
       "      <th>가액</th>\n",
       "      <th>개별공시지가</th>\n",
       "    </tr>\n",
       "  </thead>\n",
       "  <tbody>\n",
       "    <tr>\n",
       "      <th>3</th>\n",
       "      <td>서울특별시</td>\n",
       "      <td>종로구</td>\n",
       "      <td>23913168.3</td>\n",
       "      <td>49.277</td>\n",
       "      <td>73699.545799</td>\n",
       "      <td>0.006164</td>\n",
       "    </tr>\n",
       "    <tr>\n",
       "      <th>4</th>\n",
       "      <td>서울특별시</td>\n",
       "      <td>중구</td>\n",
       "      <td>9960304.5</td>\n",
       "      <td>35.692</td>\n",
       "      <td>91727.388150</td>\n",
       "      <td>0.018419</td>\n",
       "    </tr>\n",
       "    <tr>\n",
       "      <th>5</th>\n",
       "      <td>서울특별시</td>\n",
       "      <td>용산구</td>\n",
       "      <td>21866144.1</td>\n",
       "      <td>45.009</td>\n",
       "      <td>86386.603768</td>\n",
       "      <td>0.007901</td>\n",
       "    </tr>\n",
       "    <tr>\n",
       "      <th>6</th>\n",
       "      <td>서울특별시</td>\n",
       "      <td>성동구</td>\n",
       "      <td>16861003.9</td>\n",
       "      <td>26.882</td>\n",
       "      <td>51293.696805</td>\n",
       "      <td>0.006084</td>\n",
       "    </tr>\n",
       "    <tr>\n",
       "      <th>7</th>\n",
       "      <td>서울특별시</td>\n",
       "      <td>광진구</td>\n",
       "      <td>17062938.6</td>\n",
       "      <td>32.794</td>\n",
       "      <td>46846.790664</td>\n",
       "      <td>0.005491</td>\n",
       "    </tr>\n",
       "  </tbody>\n",
       "</table>\n",
       "</div>"
      ],
      "text/plain": [
       "      시도  시군구          면적     지번수            가액    개별공시지가\n",
       "3  서울특별시  종로구  23913168.3  49.277  73699.545799  0.006164\n",
       "4  서울특별시   중구   9960304.5  35.692  91727.388150  0.018419\n",
       "5  서울특별시  용산구  21866144.1  45.009  86386.603768  0.007901\n",
       "6  서울특별시  성동구  16861003.9  26.882  51293.696805  0.006084\n",
       "7  서울특별시  광진구  17062938.6  32.794  46846.790664  0.005491"
      ]
     },
     "execution_count": 11,
     "metadata": {},
     "output_type": "execute_result"
    }
   ],
   "source": [
    "# df_real 데이터 프레임의 단위 > 면적 : km^2 , 가액 : 10억원\n",
    "# 면적 단위 km^2 > m^2 로 맞추기\n",
    "df_real[\"면적\"] = df_real[\"면적\"] * 1000000\n",
    "\n",
    "\n",
    "# 개별공시지가 (단위 : 10억원)\n",
    "df_real[\"개별공시지가\"] = df_real[\"가액\"] * 2 / df_real[\"면적\"]\n",
    "df_real.head(5)"
   ]
  },
  {
   "cell_type": "code",
   "execution_count": null,
   "id": "bab94aa0",
   "metadata": {},
   "outputs": [],
   "source": []
  },
  {
   "cell_type": "markdown",
   "id": "060a975c",
   "metadata": {},
   "source": [
    "# 2. 데이터 분석"
   ]
  },
  {
   "cell_type": "markdown",
   "id": "3acef67d",
   "metadata": {},
   "source": [
    "## 2-1. 가설1 : 현재 부동산(토지)가격이 메타버스2 가상부동산 가격형성과 관계가 있다."
   ]
  },
  {
   "cell_type": "code",
   "execution_count": 12,
   "id": "b5f773cd",
   "metadata": {},
   "outputs": [
    {
     "data": {
      "text/plain": [
       "<AxesSubplot:>"
      ]
     },
     "execution_count": 12,
     "metadata": {},
     "output_type": "execute_result"
    },
    {
     "data": {
      "image/png": "[encoded data removed]",
      "text/plain": [
       "<Figure size 432x288 with 1 Axes>"
      ]
     },
     "metadata": {
      "needs_background": "light"
     },
     "output_type": "display_data"
    }
   ],
   "source": [
    "df_real[\"TP\"] = df_real[\"면적\"] * df_real[\"개별공시지가\"]\n",
    "df_real_clu = df_real[[\"시군구\", \"TP\"]]\n",
    "df_real_clu.plot()"
   ]
  },
  {
   "cell_type": "code",
   "execution_count": 13,
   "id": "2ed26f0e",
   "metadata": {},
   "outputs": [
    {
     "data": {
      "text/plain": [
       "<AxesSubplot:xlabel='시군구', ylabel='TP'>"
      ]
     },
     "execution_count": 13,
     "metadata": {},
     "output_type": "execute_result"
    },
    {
     "name": "stderr",
     "output_type": "stream",
     "text": [
      "/Users/parksungwon/opt/anaconda3/lib/python3.8/site-packages/matplotlib/backends/backend_agg.py:238: RuntimeWarning: Glyph 51333 missing from current font.\n",
      "  font.set_text(s, 0.0, flags=flags)\n",
      "/Users/parksungwon/opt/anaconda3/lib/python3.8/site-packages/matplotlib/backends/backend_agg.py:238: RuntimeWarning: Glyph 47196 missing from current font.\n",
      "  font.set_text(s, 0.0, flags=flags)\n",
      "/Users/parksungwon/opt/anaconda3/lib/python3.8/site-packages/matplotlib/backends/backend_agg.py:238: RuntimeWarning: Glyph 44396 missing from current font.\n",
      "  font.set_text(s, 0.0, flags=flags)\n",
      "/Users/parksungwon/opt/anaconda3/lib/python3.8/site-packages/matplotlib/backends/backend_agg.py:238: RuntimeWarning: Glyph 51473 missing from current font.\n",
      "  font.set_text(s, 0.0, flags=flags)\n",
      "/Users/parksungwon/opt/anaconda3/lib/python3.8/site-packages/matplotlib/backends/backend_agg.py:238: RuntimeWarning: Glyph 50857 missing from current font.\n",
      "  font.set_text(s, 0.0, flags=flags)\n",
      "/Users/parksungwon/opt/anaconda3/lib/python3.8/site-packages/matplotlib/backends/backend_agg.py:238: RuntimeWarning: Glyph 49328 missing from current font.\n",
      "  font.set_text(s, 0.0, flags=flags)\n",
      "/Users/parksungwon/opt/anaconda3/lib/python3.8/site-packages/matplotlib/backends/backend_agg.py:238: RuntimeWarning: Glyph 49457 missing from current font.\n",
      "  font.set_text(s, 0.0, flags=flags)\n",
      "/Users/parksungwon/opt/anaconda3/lib/python3.8/site-packages/matplotlib/backends/backend_agg.py:238: RuntimeWarning: Glyph 46041 missing from current font.\n",
      "  font.set_text(s, 0.0, flags=flags)\n",
      "/Users/parksungwon/opt/anaconda3/lib/python3.8/site-packages/matplotlib/backends/backend_agg.py:238: RuntimeWarning: Glyph 44305 missing from current font.\n",
      "  font.set_text(s, 0.0, flags=flags)\n",
      "/Users/parksungwon/opt/anaconda3/lib/python3.8/site-packages/matplotlib/backends/backend_agg.py:238: RuntimeWarning: Glyph 51652 missing from current font.\n",
      "  font.set_text(s, 0.0, flags=flags)\n",
      "/Users/parksungwon/opt/anaconda3/lib/python3.8/site-packages/matplotlib/backends/backend_agg.py:238: RuntimeWarning: Glyph 45824 missing from current font.\n",
      "  font.set_text(s, 0.0, flags=flags)\n",
      "/Users/parksungwon/opt/anaconda3/lib/python3.8/site-packages/matplotlib/backends/backend_agg.py:238: RuntimeWarning: Glyph 47928 missing from current font.\n",
      "  font.set_text(s, 0.0, flags=flags)\n",
      "/Users/parksungwon/opt/anaconda3/lib/python3.8/site-packages/matplotlib/backends/backend_agg.py:238: RuntimeWarning: Glyph 46993 missing from current font.\n",
      "  font.set_text(s, 0.0, flags=flags)\n",
      "/Users/parksungwon/opt/anaconda3/lib/python3.8/site-packages/matplotlib/backends/backend_agg.py:238: RuntimeWarning: Glyph 48513 missing from current font.\n",
      "  font.set_text(s, 0.0, flags=flags)\n",
      "/Users/parksungwon/opt/anaconda3/lib/python3.8/site-packages/matplotlib/backends/backend_agg.py:238: RuntimeWarning: Glyph 44053 missing from current font.\n",
      "  font.set_text(s, 0.0, flags=flags)\n",
      "/Users/parksungwon/opt/anaconda3/lib/python3.8/site-packages/matplotlib/backends/backend_agg.py:238: RuntimeWarning: Glyph 46020 missing from current font.\n",
      "  font.set_text(s, 0.0, flags=flags)\n",
      "/Users/parksungwon/opt/anaconda3/lib/python3.8/site-packages/matplotlib/backends/backend_agg.py:238: RuntimeWarning: Glyph 48393 missing from current font.\n",
      "  font.set_text(s, 0.0, flags=flags)\n",
      "/Users/parksungwon/opt/anaconda3/lib/python3.8/site-packages/matplotlib/backends/backend_agg.py:238: RuntimeWarning: Glyph 45432 missing from current font.\n",
      "  font.set_text(s, 0.0, flags=flags)\n",
      "/Users/parksungwon/opt/anaconda3/lib/python3.8/site-packages/matplotlib/backends/backend_agg.py:238: RuntimeWarning: Glyph 50896 missing from current font.\n",
      "  font.set_text(s, 0.0, flags=flags)\n",
      "/Users/parksungwon/opt/anaconda3/lib/python3.8/site-packages/matplotlib/backends/backend_agg.py:238: RuntimeWarning: Glyph 51008 missing from current font.\n",
      "  font.set_text(s, 0.0, flags=flags)\n",
      "/Users/parksungwon/opt/anaconda3/lib/python3.8/site-packages/matplotlib/backends/backend_agg.py:238: RuntimeWarning: Glyph 54217 missing from current font.\n",
      "  font.set_text(s, 0.0, flags=flags)\n",
      "/Users/parksungwon/opt/anaconda3/lib/python3.8/site-packages/matplotlib/backends/backend_agg.py:238: RuntimeWarning: Glyph 49436 missing from current font.\n",
      "  font.set_text(s, 0.0, flags=flags)\n",
      "/Users/parksungwon/opt/anaconda3/lib/python3.8/site-packages/matplotlib/backends/backend_agg.py:238: RuntimeWarning: Glyph 47560 missing from current font.\n",
      "  font.set_text(s, 0.0, flags=flags)\n",
      "/Users/parksungwon/opt/anaconda3/lib/python3.8/site-packages/matplotlib/backends/backend_agg.py:238: RuntimeWarning: Glyph 54252 missing from current font.\n",
      "  font.set_text(s, 0.0, flags=flags)\n",
      "/Users/parksungwon/opt/anaconda3/lib/python3.8/site-packages/matplotlib/backends/backend_agg.py:238: RuntimeWarning: Glyph 50577 missing from current font.\n",
      "  font.set_text(s, 0.0, flags=flags)\n",
      "/Users/parksungwon/opt/anaconda3/lib/python3.8/site-packages/matplotlib/backends/backend_agg.py:238: RuntimeWarning: Glyph 52380 missing from current font.\n",
      "  font.set_text(s, 0.0, flags=flags)\n",
      "/Users/parksungwon/opt/anaconda3/lib/python3.8/site-packages/matplotlib/backends/backend_agg.py:238: RuntimeWarning: Glyph 44552 missing from current font.\n",
      "  font.set_text(s, 0.0, flags=flags)\n",
      "/Users/parksungwon/opt/anaconda3/lib/python3.8/site-packages/matplotlib/backends/backend_agg.py:238: RuntimeWarning: Glyph 50689 missing from current font.\n",
      "  font.set_text(s, 0.0, flags=flags)\n",
      "/Users/parksungwon/opt/anaconda3/lib/python3.8/site-packages/matplotlib/backends/backend_agg.py:238: RuntimeWarning: Glyph 46321 missing from current font.\n",
      "  font.set_text(s, 0.0, flags=flags)\n",
      "/Users/parksungwon/opt/anaconda3/lib/python3.8/site-packages/matplotlib/backends/backend_agg.py:238: RuntimeWarning: Glyph 51089 missing from current font.\n",
      "  font.set_text(s, 0.0, flags=flags)\n",
      "/Users/parksungwon/opt/anaconda3/lib/python3.8/site-packages/matplotlib/backends/backend_agg.py:238: RuntimeWarning: Glyph 44288 missing from current font.\n",
      "  font.set_text(s, 0.0, flags=flags)\n",
      "/Users/parksungwon/opt/anaconda3/lib/python3.8/site-packages/matplotlib/backends/backend_agg.py:238: RuntimeWarning: Glyph 50501 missing from current font.\n",
      "  font.set_text(s, 0.0, flags=flags)\n",
      "/Users/parksungwon/opt/anaconda3/lib/python3.8/site-packages/matplotlib/backends/backend_agg.py:238: RuntimeWarning: Glyph 52488 missing from current font.\n",
      "  font.set_text(s, 0.0, flags=flags)\n",
      "/Users/parksungwon/opt/anaconda3/lib/python3.8/site-packages/matplotlib/backends/backend_agg.py:238: RuntimeWarning: Glyph 45224 missing from current font.\n",
      "  font.set_text(s, 0.0, flags=flags)\n",
      "/Users/parksungwon/opt/anaconda3/lib/python3.8/site-packages/matplotlib/backends/backend_agg.py:238: RuntimeWarning: Glyph 49569 missing from current font.\n",
      "  font.set_text(s, 0.0, flags=flags)\n",
      "/Users/parksungwon/opt/anaconda3/lib/python3.8/site-packages/matplotlib/backends/backend_agg.py:238: RuntimeWarning: Glyph 54028 missing from current font.\n",
      "  font.set_text(s, 0.0, flags=flags)\n",
      "/Users/parksungwon/opt/anaconda3/lib/python3.8/site-packages/matplotlib/backends/backend_agg.py:238: RuntimeWarning: Glyph 49884 missing from current font.\n",
      "  font.set_text(s, 0.0, flags=flags)\n",
      "/Users/parksungwon/opt/anaconda3/lib/python3.8/site-packages/matplotlib/backends/backend_agg.py:238: RuntimeWarning: Glyph 44400 missing from current font.\n",
      "  font.set_text(s, 0.0, flags=flags)\n",
      "/Users/parksungwon/opt/anaconda3/lib/python3.8/site-packages/matplotlib/backends/backend_agg.py:201: RuntimeWarning: Glyph 51333 missing from current font.\n",
      "  font.set_text(s, 0, flags=flags)\n",
      "/Users/parksungwon/opt/anaconda3/lib/python3.8/site-packages/matplotlib/backends/backend_agg.py:201: RuntimeWarning: Glyph 47196 missing from current font.\n",
      "  font.set_text(s, 0, flags=flags)\n",
      "/Users/parksungwon/opt/anaconda3/lib/python3.8/site-packages/matplotlib/backends/backend_agg.py:201: RuntimeWarning: Glyph 44396 missing from current font.\n",
      "  font.set_text(s, 0, flags=flags)\n",
      "/Users/parksungwon/opt/anaconda3/lib/python3.8/site-packages/matplotlib/backends/backend_agg.py:201: RuntimeWarning: Glyph 51473 missing from current font.\n",
      "  font.set_text(s, 0, flags=flags)\n",
      "/Users/parksungwon/opt/anaconda3/lib/python3.8/site-packages/matplotlib/backends/backend_agg.py:201: RuntimeWarning: Glyph 50857 missing from current font.\n",
      "  font.set_text(s, 0, flags=flags)\n",
      "/Users/parksungwon/opt/anaconda3/lib/python3.8/site-packages/matplotlib/backends/backend_agg.py:201: RuntimeWarning: Glyph 49328 missing from current font.\n",
      "  font.set_text(s, 0, flags=flags)\n",
      "/Users/parksungwon/opt/anaconda3/lib/python3.8/site-packages/matplotlib/backends/backend_agg.py:201: RuntimeWarning: Glyph 49457 missing from current font.\n",
      "  font.set_text(s, 0, flags=flags)\n",
      "/Users/parksungwon/opt/anaconda3/lib/python3.8/site-packages/matplotlib/backends/backend_agg.py:201: RuntimeWarning: Glyph 46041 missing from current font.\n",
      "  font.set_text(s, 0, flags=flags)\n",
      "/Users/parksungwon/opt/anaconda3/lib/python3.8/site-packages/matplotlib/backends/backend_agg.py:201: RuntimeWarning: Glyph 44305 missing from current font.\n",
      "  font.set_text(s, 0, flags=flags)\n",
      "/Users/parksungwon/opt/anaconda3/lib/python3.8/site-packages/matplotlib/backends/backend_agg.py:201: RuntimeWarning: Glyph 51652 missing from current font.\n",
      "  font.set_text(s, 0, flags=flags)\n",
      "/Users/parksungwon/opt/anaconda3/lib/python3.8/site-packages/matplotlib/backends/backend_agg.py:201: RuntimeWarning: Glyph 45824 missing from current font.\n",
      "  font.set_text(s, 0, flags=flags)\n",
      "/Users/parksungwon/opt/anaconda3/lib/python3.8/site-packages/matplotlib/backends/backend_agg.py:201: RuntimeWarning: Glyph 47928 missing from current font.\n",
      "  font.set_text(s, 0, flags=flags)\n",
      "/Users/parksungwon/opt/anaconda3/lib/python3.8/site-packages/matplotlib/backends/backend_agg.py:201: RuntimeWarning: Glyph 46993 missing from current font.\n",
      "  font.set_text(s, 0, flags=flags)\n",
      "/Users/parksungwon/opt/anaconda3/lib/python3.8/site-packages/matplotlib/backends/backend_agg.py:201: RuntimeWarning: Glyph 48513 missing from current font.\n",
      "  font.set_text(s, 0, flags=flags)\n",
      "/Users/parksungwon/opt/anaconda3/lib/python3.8/site-packages/matplotlib/backends/backend_agg.py:201: RuntimeWarning: Glyph 44053 missing from current font.\n",
      "  font.set_text(s, 0, flags=flags)\n",
      "/Users/parksungwon/opt/anaconda3/lib/python3.8/site-packages/matplotlib/backends/backend_agg.py:201: RuntimeWarning: Glyph 46020 missing from current font.\n",
      "  font.set_text(s, 0, flags=flags)\n",
      "/Users/parksungwon/opt/anaconda3/lib/python3.8/site-packages/matplotlib/backends/backend_agg.py:201: RuntimeWarning: Glyph 48393 missing from current font.\n",
      "  font.set_text(s, 0, flags=flags)\n",
      "/Users/parksungwon/opt/anaconda3/lib/python3.8/site-packages/matplotlib/backends/backend_agg.py:201: RuntimeWarning: Glyph 45432 missing from current font.\n",
      "  font.set_text(s, 0, flags=flags)\n",
      "/Users/parksungwon/opt/anaconda3/lib/python3.8/site-packages/matplotlib/backends/backend_agg.py:201: RuntimeWarning: Glyph 50896 missing from current font.\n",
      "  font.set_text(s, 0, flags=flags)\n",
      "/Users/parksungwon/opt/anaconda3/lib/python3.8/site-packages/matplotlib/backends/backend_agg.py:201: RuntimeWarning: Glyph 51008 missing from current font.\n",
      "  font.set_text(s, 0, flags=flags)\n",
      "/Users/parksungwon/opt/anaconda3/lib/python3.8/site-packages/matplotlib/backends/backend_agg.py:201: RuntimeWarning: Glyph 54217 missing from current font.\n",
      "  font.set_text(s, 0, flags=flags)\n",
      "/Users/parksungwon/opt/anaconda3/lib/python3.8/site-packages/matplotlib/backends/backend_agg.py:201: RuntimeWarning: Glyph 49436 missing from current font.\n",
      "  font.set_text(s, 0, flags=flags)\n",
      "/Users/parksungwon/opt/anaconda3/lib/python3.8/site-packages/matplotlib/backends/backend_agg.py:201: RuntimeWarning: Glyph 47560 missing from current font.\n",
      "  font.set_text(s, 0, flags=flags)\n",
      "/Users/parksungwon/opt/anaconda3/lib/python3.8/site-packages/matplotlib/backends/backend_agg.py:201: RuntimeWarning: Glyph 54252 missing from current font.\n",
      "  font.set_text(s, 0, flags=flags)\n",
      "/Users/parksungwon/opt/anaconda3/lib/python3.8/site-packages/matplotlib/backends/backend_agg.py:201: RuntimeWarning: Glyph 50577 missing from current font.\n",
      "  font.set_text(s, 0, flags=flags)\n",
      "/Users/parksungwon/opt/anaconda3/lib/python3.8/site-packages/matplotlib/backends/backend_agg.py:201: RuntimeWarning: Glyph 52380 missing from current font.\n",
      "  font.set_text(s, 0, flags=flags)\n",
      "/Users/parksungwon/opt/anaconda3/lib/python3.8/site-packages/matplotlib/backends/backend_agg.py:201: RuntimeWarning: Glyph 44552 missing from current font.\n",
      "  font.set_text(s, 0, flags=flags)\n",
      "/Users/parksungwon/opt/anaconda3/lib/python3.8/site-packages/matplotlib/backends/backend_agg.py:201: RuntimeWarning: Glyph 50689 missing from current font.\n",
      "  font.set_text(s, 0, flags=flags)\n",
      "/Users/parksungwon/opt/anaconda3/lib/python3.8/site-packages/matplotlib/backends/backend_agg.py:201: RuntimeWarning: Glyph 46321 missing from current font.\n",
      "  font.set_text(s, 0, flags=flags)\n",
      "/Users/parksungwon/opt/anaconda3/lib/python3.8/site-packages/matplotlib/backends/backend_agg.py:201: RuntimeWarning: Glyph 51089 missing from current font.\n",
      "  font.set_text(s, 0, flags=flags)\n",
      "/Users/parksungwon/opt/anaconda3/lib/python3.8/site-packages/matplotlib/backends/backend_agg.py:201: RuntimeWarning: Glyph 44288 missing from current font.\n",
      "  font.set_text(s, 0, flags=flags)\n",
      "/Users/parksungwon/opt/anaconda3/lib/python3.8/site-packages/matplotlib/backends/backend_agg.py:201: RuntimeWarning: Glyph 50501 missing from current font.\n",
      "  font.set_text(s, 0, flags=flags)\n",
      "/Users/parksungwon/opt/anaconda3/lib/python3.8/site-packages/matplotlib/backends/backend_agg.py:201: RuntimeWarning: Glyph 52488 missing from current font.\n",
      "  font.set_text(s, 0, flags=flags)\n",
      "/Users/parksungwon/opt/anaconda3/lib/python3.8/site-packages/matplotlib/backends/backend_agg.py:201: RuntimeWarning: Glyph 45224 missing from current font.\n",
      "  font.set_text(s, 0, flags=flags)\n",
      "/Users/parksungwon/opt/anaconda3/lib/python3.8/site-packages/matplotlib/backends/backend_agg.py:201: RuntimeWarning: Glyph 49569 missing from current font.\n",
      "  font.set_text(s, 0, flags=flags)\n",
      "/Users/parksungwon/opt/anaconda3/lib/python3.8/site-packages/matplotlib/backends/backend_agg.py:201: RuntimeWarning: Glyph 54028 missing from current font.\n",
      "  font.set_text(s, 0, flags=flags)\n",
      "/Users/parksungwon/opt/anaconda3/lib/python3.8/site-packages/matplotlib/backends/backend_agg.py:201: RuntimeWarning: Glyph 49884 missing from current font.\n",
      "  font.set_text(s, 0, flags=flags)\n",
      "/Users/parksungwon/opt/anaconda3/lib/python3.8/site-packages/matplotlib/backends/backend_agg.py:201: RuntimeWarning: Glyph 44400 missing from current font.\n",
      "  font.set_text(s, 0, flags=flags)\n"
     ]
    },
    {
     "data": {
      "image/png": "[encoded data removed]",
      "text/plain": [
       "<Figure size 432x288 with 1 Axes>"
      ]
     },
     "metadata": {
      "needs_background": "light"
     },
     "output_type": "display_data"
    }
   ],
   "source": [
    "sns.barplot(data= df_real_clu, x = \"시군구\", y = \"TP\")"
   ]
  },
  {
   "cell_type": "code",
   "execution_count": 14,
   "id": "e734c775",
   "metadata": {},
   "outputs": [
    {
     "data": {
      "text/plain": [
       "Gangnam-gu         2690\n",
       "Songpa-gu          2480\n",
       "Jongno-gu          2135\n",
       "Seocho-gu          2102\n",
       "Yongsan-gu         1976\n",
       "Gangseo-gu         1497\n",
       "Jung-gu            1304\n",
       "Mapo-gu            1225\n",
       "Yeongdeungpo-gu    1138\n",
       "Gangdong-gu         829\n",
       "Seodaemun-gu        820\n",
       "Gwanak-gu           776\n",
       "Seongdong-gu        752\n",
       "Seongbuk-gu         717\n",
       "Nowon-gu            712\n",
       "Gwangjin-gu         668\n",
       "Eunpyeong-gu        646\n",
       "Guro-gu             602\n",
       "Dongjak-gu          602\n",
       "Yangcheon-gu        466\n",
       "Geumcheon-gu        432\n",
       "Dongdaemun-gu       432\n",
       "Jungnang-gu         277\n",
       "Gangbuk-gu          261\n",
       "Dobong-gu           243\n",
       "Hanam-si             11\n",
       "Goyang-si             3\n",
       "Seongnam-si           2\n",
       "Gwacheon-si           1\n",
       "Guri-si               1\n",
       "Bucheon-si            1\n",
       "Gwangmyeong-si        1\n",
       "Name: gu_address, dtype: int64"
      ]
     },
     "execution_count": 14,
     "metadata": {},
     "output_type": "execute_result"
    }
   ],
   "source": [
    "df_meta[\"gu_address\"].value_counts()"
   ]
  },
  {
   "cell_type": "code",
   "execution_count": 15,
   "id": "3cd9bfc6",
   "metadata": {},
   "outputs": [
    {
     "data": {
      "text/plain": [
       "2584616892.0"
      ]
     },
     "execution_count": 15,
     "metadata": {},
     "output_type": "execute_result"
    }
   ],
   "source": [
    "df_meta_clu = df_meta[[\"gu_address\", \"totalPrice\"]]\n",
    "df_meta_clu[df_meta_clu[\"gu_address\"] == \"Gangnam-gu\"][\"totalPrice\"].sum()"
   ]
  },
  {
   "cell_type": "code",
   "execution_count": 16,
   "id": "886e25b7",
   "metadata": {},
   "outputs": [
    {
     "data": {
      "text/plain": [
       "0.0"
      ]
     },
     "execution_count": 16,
     "metadata": {},
     "output_type": "execute_result"
    }
   ],
   "source": [
    "df_meta_clu[df_meta_clu[\"gu_address\"] == \"\"][\"totalPrice\"].sum()"
   ]
  },
  {
   "cell_type": "code",
   "execution_count": null,
   "id": "5db41124",
   "metadata": {},
   "outputs": [],
   "source": []
  },
  {
   "cell_type": "markdown",
   "id": "ecd43594",
   "metadata": {},
   "source": [
    "## 2-2. 가설2 : 메타버스2 서비스요인이 가상부동산 가격형성에 영향을 준다."
   ]
  },
  {
   "cell_type": "markdown",
   "id": "2c5f7985",
   "metadata": {},
   "source": [
    "메타버스2 서비스 향후로드맵(백서)를 통해 분석한 서비스 요인은 2가지가 있음.\n",
    "1. 랜드마크\n",
    "2. 산,강"
   ]
  },
  {
   "cell_type": "markdown",
   "id": "8c017c33",
   "metadata": {},
   "source": [
    "### 2-2-1. 메타버스2의 서비스 요인 분석 : 확정 랜드마크"
   ]
  },
  {
   "cell_type": "markdown",
   "id": "361d62a5",
   "metadata": {},
   "source": [
    "* 실제 서울시 면적 : 605km^2 = 650000000m^2\n",
    "* 실제 뉴욕시 면적 : 1214.4km^2 = 1214400000m^2\n",
    "* 실제 서울시 면적 : 실제 뉴욕시 면적 = 1 : 1.87"
   ]
  },
  {
   "cell_type": "code",
   "execution_count": 17,
   "id": "e17c090a",
   "metadata": {},
   "outputs": [
    {
     "data": {
      "text/plain": [
       "28562316504.0"
      ]
     },
     "execution_count": 17,
     "metadata": {},
     "output_type": "execute_result"
    }
   ],
   "source": [
    "# 메타버스2 가상부동산 서울시 전체 TP\n",
    "df_meta[\"totalPrice\"].sum()"
   ]
  },
  {
   "cell_type": "code",
   "execution_count": 18,
   "id": "cf412b48",
   "metadata": {},
   "outputs": [
    {
     "data": {
      "text/plain": [
       "17034786780.0"
      ]
     },
     "execution_count": 18,
     "metadata": {},
     "output_type": "execute_result"
    }
   ],
   "source": [
    "# 메타버스2 가상부동산 서울시 랜드마크가 속한 구 TP\n",
    "a_gu = df_meta[df_meta[\"gu_address\"] == \"Jung-gu\"][\"totalPrice\"].sum() # 2598203928 원\n",
    "b_gu = df_meta[df_meta[\"gu_address\"] == \"Yongsan-gu\"][\"totalPrice\"].sum()  # 2825548392 원\n",
    "c_gu = df_meta[df_meta[\"gu_address\"] == \"Seongdong-gu\"][\"totalPrice\"].sum()  # 825924732 원\n",
    "d_gu = df_meta[df_meta[\"gu_address\"] == \"Songpa-gu\"][\"totalPrice\"].sum()  # 5490518904 원\n",
    "e_gu = df_meta[df_meta[\"gu_address\"] == \"Jongno-gu\"][\"totalPrice\"].sum()  # 5294590824 원\n",
    "\n",
    "land_sum_gu = a_gu + b_gu + c_gu + d_gu + e_gu\n",
    "land_sum_gu"
   ]
  },
  {
   "cell_type": "code",
   "execution_count": 19,
   "id": "8247281e",
   "metadata": {},
   "outputs": [
    {
     "data": {
      "text/plain": [
       "59.64077450655786"
      ]
     },
     "execution_count": 19,
     "metadata": {},
     "output_type": "execute_result"
    }
   ],
   "source": [
    "land_sum_gu / df_meta[\"totalPrice\"].sum() * 100"
   ]
  },
  {
   "cell_type": "markdown",
   "id": "60aaa116",
   "metadata": {},
   "source": [
    "* 메타버스2 서울시 전체 25개구 중, 가상부동산 가격의 약 60%가 랜드마크가 속한 5개에서 나타남.  "
   ]
  },
  {
   "cell_type": "code",
   "execution_count": 20,
   "id": "d0053abc",
   "metadata": {
    "scrolled": true
   },
   "outputs": [
    {
     "data": {
      "text/html": [
       "<div>\n",
       "<style scoped>\n",
       "    .dataframe tbody tr th:only-of-type {\n",
       "        vertical-align: middle;\n",
       "    }\n",
       "\n",
       "    .dataframe tbody tr th {\n",
       "        vertical-align: top;\n",
       "    }\n",
       "\n",
       "    .dataframe thead th {\n",
       "        text-align: right;\n",
       "    }\n",
       "</style>\n",
       "<table border=\"1\" class=\"dataframe\">\n",
       "  <thead>\n",
       "    <tr style=\"text-align: right;\">\n",
       "      <th></th>\n",
       "      <th>중구_TP</th>\n",
       "      <th>용산구_TP</th>\n",
       "      <th>성동구_TP</th>\n",
       "      <th>송파구_TP</th>\n",
       "      <th>종로구_TP</th>\n",
       "    </tr>\n",
       "  </thead>\n",
       "  <tbody>\n",
       "    <tr>\n",
       "      <th>0</th>\n",
       "      <td>2.598204e+09</td>\n",
       "      <td>2.825548e+09</td>\n",
       "      <td>825924732.0</td>\n",
       "      <td>5.490519e+09</td>\n",
       "      <td>5.294591e+09</td>\n",
       "    </tr>\n",
       "  </tbody>\n",
       "</table>\n",
       "</div>"
      ],
      "text/plain": [
       "          중구_TP        용산구_TP       성동구_TP        송파구_TP        종로구_TP\n",
       "0  2.598204e+09  2.825548e+09  825924732.0  5.490519e+09  5.294591e+09"
      ]
     },
     "execution_count": 20,
     "metadata": {},
     "output_type": "execute_result"
    }
   ],
   "source": [
    "# 메타버스2 서울시 확정 랜드마크 8개 TP\n",
    "# 메타버스2 서울시내 랜드마크가 있는 구 : 중구, 용산구, 성동구, 송파구, 종로구 (총 5곳) \n",
    "\n",
    "df_land_gu_sum = {}\n",
    "df_land_gu_sum[\"중구_TP\"] = df_meta[df_meta[\"gu_address\"] == \"Jung-gu\"][\"totalPrice\"].sum() # 2598203928 원\n",
    "df_land_gu_sum[\"용산구_TP\"] = df_meta[df_meta[\"gu_address\"] == \"Yongsan-gu\"][\"totalPrice\"].sum()  # 2825548392 원\n",
    "df_land_gu_sum[\"성동구_TP\"] = df_meta[df_meta[\"gu_address\"] == \"Seongdong-gu\"][\"totalPrice\"].sum()  # 825924732 원\n",
    "df_land_gu_sum[\"송파구_TP\"] = df_meta[df_meta[\"gu_address\"] == \"Songpa-gu\"][\"totalPrice\"].sum()  # 5490518904 원\n",
    "df_land_gu_sum[\"종로구_TP\"] = df_meta[df_meta[\"gu_address\"] == \"Jongno-gu\"][\"totalPrice\"].sum()  # 5294590824 원\n",
    "\n",
    "df_land_gu_tp = pd.DataFrame([df_land_gu_sum]) # 랜드마크가 속한 지역구 TP\n",
    "df_land_gu_tp"
   ]
  },
  {
   "cell_type": "markdown",
   "id": "277e4581",
   "metadata": {},
   "source": [
    "각 랜드마크별 TotalPrice \n",
    "1. 종묘 (TP: 2672553.29 달러, 타일수: 861개, 상품수: 313개) \n",
    "2. 시청 (TP: 460616.43 달러, 타일수: 124개, 상품수: 57개) \n",
    "3. 덕수궁 (TP: 576830.4 달러, 타일수: 156개, 상품수: 115개) \n",
    "4. 국립중앙박물관 (TP: 901849.13 달러, 타일수: 302개, 상품수: 233개) \n",
    "5. 롯데타워 (TP: 2217947.39 달러, 타일수: 160개, 상품수: 91개) \n",
    "6. 롯데월드 (TP: 1740743.69 달러, 타일수: 299개, 상품수: 91개) \n",
    "7. 한남 (TP: 718994.93 달러, 타일수: 229개, 상품수: 190개) \n",
    "8. 트리마제 (TP: 472134.9 달러, 타일수: 158개, 상품수: 143개)"
   ]
  },
  {
   "cell_type": "code",
   "execution_count": 21,
   "id": "743353b6",
   "metadata": {},
   "outputs": [
    {
     "data": {
      "text/html": [
       "<div>\n",
       "<style scoped>\n",
       "    .dataframe tbody tr th:only-of-type {\n",
       "        vertical-align: middle;\n",
       "    }\n",
       "\n",
       "    .dataframe tbody tr th {\n",
       "        vertical-align: top;\n",
       "    }\n",
       "\n",
       "    .dataframe thead th {\n",
       "        text-align: right;\n",
       "    }\n",
       "</style>\n",
       "<table border=\"1\" class=\"dataframe\">\n",
       "  <thead>\n",
       "    <tr style=\"text-align: right;\">\n",
       "      <th></th>\n",
       "      <th>랜드마크</th>\n",
       "      <th>TP_달러</th>\n",
       "      <th>타일 수</th>\n",
       "      <th>면적</th>\n",
       "      <th>TP_원</th>\n",
       "    </tr>\n",
       "  </thead>\n",
       "  <tbody>\n",
       "    <tr>\n",
       "      <th>0</th>\n",
       "      <td>종묘_종로구</td>\n",
       "      <td>2672553.29</td>\n",
       "      <td>861</td>\n",
       "      <td>86100</td>\n",
       "      <td>3207063948</td>\n",
       "    </tr>\n",
       "    <tr>\n",
       "      <th>1</th>\n",
       "      <td>시청_중구</td>\n",
       "      <td>460616.43</td>\n",
       "      <td>124</td>\n",
       "      <td>12400</td>\n",
       "      <td>552739716</td>\n",
       "    </tr>\n",
       "    <tr>\n",
       "      <th>2</th>\n",
       "      <td>덕수궁_중구</td>\n",
       "      <td>576830.40</td>\n",
       "      <td>156</td>\n",
       "      <td>15600</td>\n",
       "      <td>692196480</td>\n",
       "    </tr>\n",
       "    <tr>\n",
       "      <th>3</th>\n",
       "      <td>국립중앙박물관_용산구</td>\n",
       "      <td>901849.13</td>\n",
       "      <td>302</td>\n",
       "      <td>30200</td>\n",
       "      <td>1082218956</td>\n",
       "    </tr>\n",
       "    <tr>\n",
       "      <th>4</th>\n",
       "      <td>롯데타워_송파구</td>\n",
       "      <td>2217947.39</td>\n",
       "      <td>160</td>\n",
       "      <td>16000</td>\n",
       "      <td>2661536868</td>\n",
       "    </tr>\n",
       "    <tr>\n",
       "      <th>5</th>\n",
       "      <td>롯데월드_송파구</td>\n",
       "      <td>1740743.69</td>\n",
       "      <td>299</td>\n",
       "      <td>29900</td>\n",
       "      <td>2088892428</td>\n",
       "    </tr>\n",
       "    <tr>\n",
       "      <th>6</th>\n",
       "      <td>나인원한남_용산구</td>\n",
       "      <td>718994.93</td>\n",
       "      <td>229</td>\n",
       "      <td>22900</td>\n",
       "      <td>862793916</td>\n",
       "    </tr>\n",
       "    <tr>\n",
       "      <th>7</th>\n",
       "      <td>트리마제_성동구</td>\n",
       "      <td>472134.90</td>\n",
       "      <td>158</td>\n",
       "      <td>15800</td>\n",
       "      <td>566561880</td>\n",
       "    </tr>\n",
       "  </tbody>\n",
       "</table>\n",
       "</div>"
      ],
      "text/plain": [
       "          랜드마크       TP_달러  타일 수     면적        TP_원\n",
       "0       종묘_종로구  2672553.29   861  86100  3207063948\n",
       "1        시청_중구   460616.43   124  12400   552739716\n",
       "2       덕수궁_중구   576830.40   156  15600   692196480\n",
       "3  국립중앙박물관_용산구   901849.13   302  30200  1082218956\n",
       "4     롯데타워_송파구  2217947.39   160  16000  2661536868\n",
       "5     롯데월드_송파구  1740743.69   299  29900  2088892428\n",
       "6    나인원한남_용산구   718994.93   229  22900   862793916\n",
       "7     트리마제_성동구   472134.90   158  15800   566561880"
      ]
     },
     "execution_count": 21,
     "metadata": {},
     "output_type": "execute_result"
    }
   ],
   "source": [
    "# 랜드마크\n",
    "landmark = pd.read_csv(\"2.확정랜드마크_데이터셋.csv\")\n",
    "landmark"
   ]
  },
  {
   "cell_type": "code",
   "execution_count": 43,
   "id": "f95681e8",
   "metadata": {},
   "outputs": [],
   "source": [
    "# 확정랜드마크가 속한 구에서 산,강 요인에 대한 데이터 셋\n",
    "land_tree = pd.read_csv(\"1.랜드마크(구)_산,강_데이터.csv\", encoding = \"cp949\")"
   ]
  },
  {
   "cell_type": "markdown",
   "id": "16f049c8",
   "metadata": {},
   "source": [
    "* 서비스 요인별 메타버스2 가상부동산 가격형성에 영향을 미치는 정도를 파악하기 위해 1)랜드마크 와 2)산,강 각각의 서비스 요인은 분리해서 분석함"
   ]
  },
  {
   "cell_type": "markdown",
   "id": "160e489d",
   "metadata": {},
   "source": [
    "1. 서울시 전체 타일수\n",
    "* 서울시 605*1000*1000/2/100 = 3025000개\n",
    "\n",
    " \n",
    "2. 랜드마크가 속한 5개구 전체 타일수\n",
    "* 중구 37*1000*1000/2/100 = 185000개\n",
    "* 용산구 21.87*1000*1000/2/100 = 109350개\n",
    "* 성동구 16.84*1000*1000/2/100 = 84200개\n",
    "* 송파구 33.88*1000*1000/2/100 = 169400개\n",
    "* 종로구 23.91*1000*1000/2/100 = 119550개"
   ]
  },
  {
   "cell_type": "code",
   "execution_count": 37,
   "id": "29605087",
   "metadata": {},
   "outputs": [
    {
     "data": {
      "text/plain": [
       "41.01209434591734"
      ]
     },
     "execution_count": 37,
     "metadata": {},
     "output_type": "execute_result"
    }
   ],
   "source": [
    "# 서울 전체 TP 중, 랜드마크가 차지하는 점유율 약 41%\n",
    "landmark[\"TP_원\"].sum() / df_meta[\"totalPrice\"].sum() * 100"
   ]
  },
  {
   "cell_type": "code",
   "execution_count": 46,
   "id": "cf6de28d",
   "metadata": {},
   "outputs": [
    {
     "data": {
      "text/plain": [
       "0.0756694214876033"
      ]
     },
     "execution_count": 46,
     "metadata": {},
     "output_type": "execute_result"
    }
   ],
   "source": [
    "# 서울 전체 면적 중, 랜드마크가 차지하는 점유율 약 0.08%\n",
    "landmark[\"타일 수\"].sum() / 3025000 * 100"
   ]
  },
  {
   "cell_type": "code",
   "execution_count": 44,
   "id": "f9ea74c8",
   "metadata": {},
   "outputs": [
    {
     "data": {
      "text/html": [
       "<div>\n",
       "<style scoped>\n",
       "    .dataframe tbody tr th:only-of-type {\n",
       "        vertical-align: middle;\n",
       "    }\n",
       "\n",
       "    .dataframe tbody tr th {\n",
       "        vertical-align: top;\n",
       "    }\n",
       "\n",
       "    .dataframe thead th {\n",
       "        text-align: right;\n",
       "    }\n",
       "</style>\n",
       "<table border=\"1\" class=\"dataframe\">\n",
       "  <thead>\n",
       "    <tr style=\"text-align: right;\">\n",
       "      <th></th>\n",
       "      <th>Unnamed: 0</th>\n",
       "      <th>산강TP(won)</th>\n",
       "      <th>산강 면적(m^2)</th>\n",
       "      <th>메타버스 면적</th>\n",
       "      <th>타일수</th>\n",
       "    </tr>\n",
       "  </thead>\n",
       "  <tbody>\n",
       "    <tr>\n",
       "      <th>0</th>\n",
       "      <td>중구</td>\n",
       "      <td>83904618.18</td>\n",
       "      <td>1249360.0</td>\n",
       "      <td>624680.0</td>\n",
       "      <td>6246.8</td>\n",
       "    </tr>\n",
       "  </tbody>\n",
       "</table>\n",
       "</div>"
      ],
      "text/plain": [
       "  Unnamed: 0    산강TP(won)  산강 면적(m^2)   메타버스 면적     타일수\n",
       "0         중구  83904618.18   1249360.0  624680.0  6246.8"
      ]
     },
     "execution_count": 44,
     "metadata": {},
     "output_type": "execute_result"
    }
   ],
   "source": [
    "land_tree[\"타일수\"].sum()"
   ]
  },
  {
   "cell_type": "markdown",
   "id": "95cf91a4",
   "metadata": {},
   "source": [
    "> 메타버스2 가상부동산 내에서 랜드마크가 차지하는 면적대비 TotalPrice를 확인해봤을때, \\\n",
    "> 랜드마크가 메타버스2에서 서비스 요인으로서 작용한다는 것을 알 수 있음"
   ]
  },
  {
   "cell_type": "markdown",
   "id": "b3200b87",
   "metadata": {},
   "source": [
    "### 2-2-2. 메타버스2의 서비스 요인 분석 : 랜드마크 예상 기대지역"
   ]
  },
  {
   "cell_type": "code",
   "execution_count": null,
   "id": "c157b944",
   "metadata": {},
   "outputs": [],
   "source": []
  },
  {
   "cell_type": "code",
   "execution_count": null,
   "id": "269ee2e0",
   "metadata": {},
   "outputs": [],
   "source": []
  },
  {
   "cell_type": "code",
   "execution_count": null,
   "id": "c4781a10",
   "metadata": {},
   "outputs": [],
   "source": []
  },
  {
   "cell_type": "code",
   "execution_count": null,
   "id": "0b0eb1c1",
   "metadata": {},
   "outputs": [],
   "source": []
  },
  {
   "cell_type": "markdown",
   "id": "0e02f48b",
   "metadata": {},
   "source": [
    "### 2-2-3. 메타버스2의 서비스 요인 분석 : 랜드마크(확정/예상)가 가격형성에 미치는 영향"
   ]
  },
  {
   "cell_type": "code",
   "execution_count": null,
   "id": "dd774df3",
   "metadata": {},
   "outputs": [],
   "source": []
  },
  {
   "cell_type": "code",
   "execution_count": null,
   "id": "46b29555",
   "metadata": {},
   "outputs": [],
   "source": []
  },
  {
   "cell_type": "code",
   "execution_count": null,
   "id": "ff83ea6c",
   "metadata": {},
   "outputs": [],
   "source": []
  },
  {
   "cell_type": "code",
   "execution_count": null,
   "id": "8cdaa23d",
   "metadata": {},
   "outputs": [],
   "source": []
  },
  {
   "cell_type": "markdown",
   "id": "1444f072",
   "metadata": {},
   "source": [
    "### 2-2-4. 메타버스2의 서비스 요인 분석 : 산, 강"
   ]
  },
  {
   "cell_type": "code",
   "execution_count": null,
   "id": "92f02642",
   "metadata": {},
   "outputs": [],
   "source": []
  }
 ],
 "metadata": {
  "kernelspec": {
   "display_name": "Python 3",
   "language": "python",
   "name": "python3"
  },
  "language_info": {
   "codemirror_mode": {
    "name": "ipython",
    "version": 3
   },
   "file_extension": ".py",
   "mimetype": "text/x-python",
   "name": "python",
   "nbconvert_exporter": "python",
   "pygments_lexer": "ipython3",
   "version": "3.8.8"
  },
  "toc": {
   "base_numbering": 1,
   "nav_menu": {},
   "number_sections": true,
   "sideBar": true,
   "skip_h1_title": false,
   "title_cell": "Table of Contents",
   "title_sidebar": "Contents",
   "toc_cell": false,
   "toc_position": {
    "height": "calc(100% - 180px)",
    "left": "10px",
    "top": "150px",
    "width": "165px"
   },
   "toc_section_display": true,
   "toc_window_display": true
  },
  "varInspector": {
   "cols": {
    "lenName": 16,
    "lenType": 16,
    "lenVar": 40
   },
   "kernels_config": {
    "python": {
     "delete_cmd_postfix": "",
     "delete_cmd_prefix": "del ",
     "library": "var_list.py",
     "varRefreshCmd": "print(var_dic_list())"
    },
    "r": {
     "delete_cmd_postfix": ") ",
     "delete_cmd_prefix": "rm(",
     "library": "var_list.r",
     "varRefreshCmd": "cat(var_dic_list()) "
    }
   },
   "types_to_exclude": [
    "module",
    "function",
    "builtin_function_or_method",
    "instance",
    "_Feature"
   ],
   "window_display": false
  }
 },
 "nbformat": 4,
 "nbformat_minor": 5
}
